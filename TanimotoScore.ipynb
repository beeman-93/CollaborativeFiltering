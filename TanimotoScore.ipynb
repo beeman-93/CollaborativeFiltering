{
 "cells": [
  {
   "cell_type": "code",
   "execution_count": 1,
   "id": "b47934de",
   "metadata": {},
   "outputs": [],
   "source": [
    "def tanimoto(a, b):\n",
    "    # Convert the input lists to sets for easier calculation\n",
    "    a = set(a)\n",
    "    b = set(b)\n",
    "    \n",
    "    # Calculate the intersection of the two sets\n",
    "    intersection = a.intersection(b)\n",
    "    \n",
    "    # Calculate the union of the two sets\n",
    "    union = a.union(b)\n",
    "    \n",
    "    # Calculate and return the Tanimoto coefficient\n",
    "    return len(intersection) / len(union)\n"
   ]
  },
  {
   "cell_type": "code",
   "execution_count": 2,
   "id": "a6f1beb6",
   "metadata": {},
   "outputs": [
    {
     "data": {
      "text/plain": [
       "0.3333333333333333"
      ]
     },
     "execution_count": 2,
     "metadata": {},
     "output_type": "execute_result"
    }
   ],
   "source": [
    "tanimoto([1, 2, 3, 4], [3, 4, 5, 6])"
   ]
  },
  {
   "cell_type": "code",
   "execution_count": null,
   "id": "ca641f85",
   "metadata": {},
   "outputs": [],
   "source": []
  }
 ],
 "metadata": {
  "kernelspec": {
   "display_name": "Python 3 (ipykernel)",
   "language": "python",
   "name": "python3"
  },
  "language_info": {
   "codemirror_mode": {
    "name": "ipython",
    "version": 3
   },
   "file_extension": ".py",
   "mimetype": "text/x-python",
   "name": "python",
   "nbconvert_exporter": "python",
   "pygments_lexer": "ipython3",
   "version": "3.8.13"
  }
 },
 "nbformat": 4,
 "nbformat_minor": 5
}
