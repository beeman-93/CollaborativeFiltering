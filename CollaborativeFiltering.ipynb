{
 "cells": [
  {
   "cell_type": "markdown",
   "id": "f0e7eff9",
   "metadata": {},
   "source": [
    "# Collaborative Filtering Methods: Recommending Movies"
   ]
  },
  {
   "cell_type": "markdown",
   "id": "10148033",
   "metadata": {},
   "source": [
    "#### Collecting Preferences\n",
    "The first thing you need is a way to represent different people and their preferences. In Python, a very simple way to do this is to use a nested dictionary. If you’d like to work through the example in this section, run the following code to create the dataset:"
   ]
  },
  {
   "cell_type": "code",
   "execution_count": 1,
   "id": "8bc9dc0a",
   "metadata": {},
   "outputs": [],
   "source": [
    "# A dictionary of movie critics and their ratings of a small\n",
    "# set of movies\n",
    "critics={'Lisa Rose': {'Lady in the Water': 2.5, 'Snakes on a Plane': 3.5,\n",
    " 'Just My Luck': 3.0, 'Superman Returns': 3.5, 'You, Me and Dupree': 2.5,\n",
    " 'The Night Listener': 3.0},\n",
    "'Gene Seymour': {'Lady in the Water': 3.0, 'Snakes on a Plane': 3.5,\n",
    " 'Just My Luck': 1.5, 'Superman Returns': 5.0, 'The Night Listener': 3.0,\n",
    " 'You, Me and Dupree': 3.5},\n",
    "'Michael Phillips': {'Lady in the Water': 2.5, 'Snakes on a Plane': 3.0,\n",
    " 'Superman Returns': 3.5, 'The Night Listener': 4.0},\n",
    "'Claudia Puig': {'Snakes on a Plane': 3.5, 'Just My Luck': 3.0,\n",
    " 'The Night Listener': 4.5, 'Superman Returns': 4.0,\n",
    " 'You, Me and Dupree': 2.5},\n",
    "'Mick LaSalle': {'Lady in the Water': 3.0, 'Snakes on a Plane': 4.0,\n",
    " 'Just My Luck': 2.0, 'Superman Returns': 3.0, 'The Night Listener': 3.0,\n",
    " 'You, Me and Dupree': 2.0},\n",
    "'Jack Matthews': {'Lady in the Water': 3.0, 'Snakes on a Plane': 4.0,\n",
    " 'The Night Listener': 3.0, 'Superman Returns': 5.0, 'You, Me and Dupree': 3.5},\n",
    "'Toby': {'Snakes on a Plane':4.5,'You, Me and Dupree':1.0,'Superman Returns':4.0}}"
   ]
  },
  {
   "cell_type": "markdown",
   "id": "a66c3c6a",
   "metadata": {},
   "source": [
    "#### Find similar user using Euclidean Distance Score\n"
   ]
  },
  {
   "cell_type": "code",
   "execution_count": 2,
   "id": "96ccf86f",
   "metadata": {},
   "outputs": [],
   "source": [
    "from math import sqrt\n",
    "\n",
    "# Returns a distance-based similarity score for person1 and person2\n",
    "def sim_distance(prefs,person1,person2):\n",
    "  # Get the list of shared_items\n",
    "  si={}\n",
    "  for item in prefs[person1]:\n",
    "    if item in prefs[person2]:\n",
    "       si[item]=1\n",
    "\n",
    "  # if they have no ratings in common, return 0\n",
    "  if len(si)==0: return 0\n",
    "\n",
    "  # Add up the squares of all the differences\n",
    "  sum_of_squares=sum([pow(prefs[person1][item]-prefs[person2][item],2)\n",
    "                      for item in si])\n",
    "\n",
    "  return 1/(1+sqrt(sum_of_squares))"
   ]
  },
  {
   "cell_type": "code",
   "execution_count": 8,
   "id": "813ba1a0",
   "metadata": {},
   "outputs": [
    {
     "name": "stdout",
     "output_type": "stream",
     "text": [
      "0.29429805508554946\n"
     ]
    }
   ],
   "source": [
    "print(sim_distance(critics, 'Lisa Rose', 'Gene Seymour'))"
   ]
  },
  {
   "cell_type": "markdown",
   "id": "79f3bf09",
   "metadata": {},
   "source": [
    "#### Find similar user using Pearson Correlation Score"
   ]
  },
  {
   "cell_type": "code",
   "execution_count": 9,
   "id": "c33f5980",
   "metadata": {},
   "outputs": [],
   "source": [
    "# Returns the Pearson correlation coefficient for p1 and p2\n",
    "def sim_pearson(prefs,p1,p2):\n",
    "  # Get the list of mutually rated items\n",
    "  si={}\n",
    "  for item in prefs[p1]:\n",
    "    if item in prefs[p2]: si[item]=1\n",
    "\n",
    "  # Find the number of elements\n",
    "  n=len(si)\n",
    "\n",
    "  # if they have no ratings in common, return 0\n",
    "  if n==0: return 0\n",
    "\n",
    "  # Add up all the preferences\n",
    "  sum1=sum([prefs[p1][it] for it in si])\n",
    "  sum2=sum([prefs[p2][it] for it in si])\n",
    "\n",
    "  # Sum up the squares\n",
    "  sum1Sq=sum([pow(prefs[p1][it],2) for it in si])\n",
    "  sum2Sq=sum([pow(prefs[p2][it],2) for it in si])\n",
    "\n",
    "  # Sum up the products\n",
    "  pSum=sum([prefs[p1][it]*prefs[p2][it] for it in si])\n",
    "\n",
    "  # Calculate Pearson score\n",
    "  num=pSum - (sum1*sum2/n)\n",
    "  den=sqrt((sum1Sq - pow(sum1,2)/n)*(sum2Sq - pow(sum2,2)/n))\n",
    "  if den==0: return 0\n",
    "  r=num/den\n",
    "\n",
    "  return r"
   ]
  },
  {
   "cell_type": "code",
   "execution_count": 10,
   "id": "fad53407",
   "metadata": {},
   "outputs": [
    {
     "name": "stdout",
     "output_type": "stream",
     "text": [
      "0.39605901719066977\n"
     ]
    }
   ],
   "source": [
    "print(sim_pearson(critics, 'Lisa Rose', 'Gene Seymour'))"
   ]
  },
  {
   "cell_type": "markdown",
   "id": "d43784d0",
   "metadata": {},
   "source": [
    "#### Rank the critics"
   ]
  },
  {
   "cell_type": "code",
   "execution_count": 11,
   "id": "36e3ee6c",
   "metadata": {},
   "outputs": [],
   "source": [
    "def topMatches(prefs,person,n=5,similarity=sim_pearson):\n",
    "  scores=[(similarity(prefs,person,other),other)\n",
    "                  for other in prefs if other!=person]\n",
    "\n",
    "  # Sort the list so the highest scores appear at the top\n",
    "  scores.sort()\n",
    "  scores.reverse()\n",
    "  return scores[0:n]"
   ]
  },
  {
   "cell_type": "code",
   "execution_count": 12,
   "id": "22518170",
   "metadata": {},
   "outputs": [
    {
     "name": "stdout",
     "output_type": "stream",
     "text": [
      "[(0.9912407071619299, 'Lisa Rose'), (0.9244734516419049, 'Mick LaSalle'), (0.8934051474415647, 'Claudia Puig')]\n"
     ]
    }
   ],
   "source": [
    "print(topMatches(critics, 'Toby', n=3))"
   ]
  },
  {
   "cell_type": "markdown",
   "id": "4f35416f",
   "metadata": {},
   "source": [
    "#### Recommending items "
   ]
  },
  {
   "cell_type": "code",
   "execution_count": 13,
   "id": "b7d60953",
   "metadata": {},
   "outputs": [],
   "source": [
    "# Gets recommendations for a person by using a weighted average\n",
    "# of every other user's rankings\n",
    "def getRecommendations(prefs,person,similarity=sim_pearson):\n",
    "  totals={}\n",
    "  simSums={}\n",
    "  for other in prefs:\n",
    "    # don't compare me to myself\n",
    "    if other==person: continue\n",
    "    sim=similarity(prefs,person,other)\n",
    "\n",
    "    # ignore scores of zero or lower\n",
    "    if sim<=0: continue\n",
    "    for item in prefs[other]:\n",
    "\n",
    "      # only score movies I haven't seen yet\n",
    "      if item not in prefs[person] or prefs[person][item]==0:\n",
    "        # Similarity * Score\n",
    "        totals.setdefault(item,0)\n",
    "        totals[item]+=prefs[other][item]*sim\n",
    "        # Sum of similarities\n",
    "        simSums.setdefault(item,0)\n",
    "        simSums[item]+=sim\n",
    "\n",
    "  # Create the normalized list\n",
    "  rankings=[(total/simSums[item],item) for item,total in totals.items()]\n",
    "\n",
    "  # Return the sorted list\n",
    "  rankings.sort()\n",
    "  rankings.reverse()\n",
    "  return rankings"
   ]
  },
  {
   "cell_type": "code",
   "execution_count": 14,
   "id": "0bfcfbde",
   "metadata": {},
   "outputs": [
    {
     "name": "stdout",
     "output_type": "stream",
     "text": [
      "[(3.3477895267131017, 'The Night Listener'), (2.8325499182641614, 'Lady in the Water'), (2.530980703765565, 'Just My Luck')]\n"
     ]
    }
   ],
   "source": [
    "print(getRecommendations(critics, 'Toby'))"
   ]
  },
  {
   "cell_type": "code",
   "execution_count": null,
   "id": "6ae0178a",
   "metadata": {},
   "outputs": [],
   "source": []
  }
 ],
 "metadata": {
  "kernelspec": {
   "display_name": "Python 3 (ipykernel)",
   "language": "python",
   "name": "python3"
  },
  "language_info": {
   "codemirror_mode": {
    "name": "ipython",
    "version": 3
   },
   "file_extension": ".py",
   "mimetype": "text/x-python",
   "name": "python",
   "nbconvert_exporter": "python",
   "pygments_lexer": "ipython3",
   "version": "3.8.13"
  }
 },
 "nbformat": 4,
 "nbformat_minor": 5
}
